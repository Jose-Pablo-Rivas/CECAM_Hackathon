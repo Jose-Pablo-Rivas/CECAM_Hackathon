{
 "cells": [
  {
   "cell_type": "code",
   "execution_count": 5,
   "metadata": {},
   "outputs": [],
   "source": [
    "import numpy as np\n",
    "import pandas as pd"
   ]
  },
  {
   "attachments": {},
   "cell_type": "markdown",
   "metadata": {},
   "source": [
    "## PCA over trajectory"
   ]
  },
  {
   "cell_type": "code",
   "execution_count": 6,
   "metadata": {},
   "outputs": [
    {
     "name": "stdout",
     "output_type": "stream",
     "text": [
      "/Users/namir_oues/Documents/PhD/CECAM_Hackathon/PCA\n"
     ]
    }
   ],
   "source": [
    "!pwd"
   ]
  },
  {
   "cell_type": "code",
   "execution_count": 7,
   "metadata": {},
   "outputs": [],
   "source": [
    "ppca ='''UNITS ENERGY=kcal/mol LENGTH=A\n",
    "lid: CENTER ATOMS=1808-2486 MASS\n",
    "nmp: CENTER ATOMS=463-1028 MASS\n",
    "core: CENTER ATOMS=1-462,1029-1807,2487-3341 MASS\n",
    "ang: ANGLE ATOMS=lid,core,nmp  \n",
    "ff: COLLECT_FRAMES ARG=ang\n",
    "pca: PCA USE_OUTPUT_DATA_FROM=ff METRIC=EUCLIDEAN NLOW_DIM=2 \n",
    "OUTPUT_PCA_PROJECTION USE_OUTPUT_DATA_FROM=pca STRIDE=1000 FILE=PCA-comp.pdb'''"
   ]
  },
  {
   "cell_type": "code",
   "execution_count": 8,
   "metadata": {},
   "outputs": [],
   "source": [
    "# Output the file above to the input\n",
    "f = open(\"plumed.dat\", \"w\")\n",
    "f.write( ppca )\n",
    "f.close()"
   ]
  },
  {
   "attachments": {},
   "cell_type": "markdown",
   "metadata": {},
   "source": [
    "## COM between domains"
   ]
  },
  {
   "cell_type": "code",
   "execution_count": null,
   "metadata": {},
   "outputs": [],
   "source": []
  }
 ],
 "metadata": {
  "kernelspec": {
   "display_name": "base",
   "language": "python",
   "name": "python3"
  },
  "language_info": {
   "codemirror_mode": {
    "name": "ipython",
    "version": 3
   },
   "file_extension": ".py",
   "mimetype": "text/x-python",
   "name": "python",
   "nbconvert_exporter": "python",
   "pygments_lexer": "ipython3",
   "version": "3.9.1"
  },
  "orig_nbformat": 4
 },
 "nbformat": 4,
 "nbformat_minor": 2
}
